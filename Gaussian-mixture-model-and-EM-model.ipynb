{
 "cells": [
  {
   "cell_type": "markdown",
   "metadata": {
    "id": "QjuZvCp_-Ljh"
   },
   "source": [
    "#Part1\n"
   ]
  },
  {
   "cell_type": "markdown",
   "metadata": {
    "id": "3YUcAe3e-SIz"
   },
   "source": [
    "Program to implement EM algorithm, with a Gaussian mixture model on the Iris dataset for k=3."
   ]
  },
  {
   "cell_type": "code",
   "execution_count": null,
   "metadata": {
    "colab": {
     "base_uri": "https://localhost:8080/"
    },
    "id": "TufMVIrq-fga",
    "outputId": "937cb4b3-17ee-4e83-87d8-2a10c54e2a2b"
   },
   "outputs": [
    {
     "data": {
      "text/plain": [
       "(150, 4)"
      ]
     },
     "execution_count": 1,
     "metadata": {
      "tags": []
     },
     "output_type": "execute_result"
    }
   ],
   "source": [
    "from sklearn.datasets import load_iris\n",
    "from scipy.stats import multivariate_normal\n",
    "import numpy as np\n",
    "data = load_iris()\n",
    "X = np.array(data.data)\n",
    "Y = data.target\n",
    "X.shape"
   ]
  },
  {
   "cell_type": "code",
   "execution_count": null,
   "metadata": {
    "id": "tp6c7ycD-YxH"
   },
   "outputs": [],
   "source": [
    "# Reference: http://www.oranlooney.com/post/ml-from-scratch-part-5-gmm/\n",
    "# initialize\n",
    "def initialize(X, k):\n",
    "    phi=[]\n",
    "    weights=[]\n",
    "    mu=[]\n",
    "    sigma=[]\n",
    "    n,m = X.shape\n",
    "    phi = np.full(shape=k, fill_value=1/k)\n",
    "    weights = np.full( shape=X.shape, fill_value=1/k)\n",
    "\n",
    "    random_row = np.random.randint(low=0, high=n, size=k)\n",
    "    mu = [  X[row_index,:] for row_index in random_row ]\n",
    "    sigma = [ np.cov(X.T) for _ in range(k) ]\n",
    "    return (phi, weights, mu, sigma)"
   ]
  },
  {
   "cell_type": "code",
   "execution_count": null,
   "metadata": {
    "id": "aL5Bk-Vg-mUu"
   },
   "outputs": [],
   "source": [
    "def predict_probability(X, k):\n",
    "    n,m = X.shape\n",
    "    likelihood = np.zeros( (n, k) )\n",
    "    for i in range(k):\n",
    "        distribution = multivariate_normal(\n",
    "            mean=mu[i], \n",
    "            cov=sigma[i])\n",
    "        likelihood[:,i] = distribution.pdf(X)\n",
    "\n",
    "    numerator = likelihood * phi\n",
    "    denominator = numerator.sum(axis=1)[:, np.newaxis]\n",
    "    weights = numerator / denominator\n",
    "    return weights"
   ]
  },
  {
   "cell_type": "code",
   "execution_count": null,
   "metadata": {
    "id": "CGO9rfEg-pHX"
   },
   "outputs": [],
   "source": [
    "def e_step(X,k):\n",
    "    weights = predict_probability(X, k)\n",
    "    phi = weights.mean(axis=0)\n",
    "    return weights,phi"
   ]
  },
  {
   "cell_type": "code",
   "execution_count": null,
   "metadata": {
    "id": "0sBY-eAs-ryB"
   },
   "outputs": [],
   "source": [
    "def m_step(X,k):\n",
    "    for i in range(k):\n",
    "        weight = weights[:, [i]]\n",
    "        total_weight = weight.sum()\n",
    "        mu[i] = (X * weight).sum(axis=0) / total_weight\n",
    "        sigma[i] = np.cov(X.T, \n",
    "            aweights=(weight/total_weight).flatten(), \n",
    "            bias=True)\n",
    "    return (phi, weights, mu, sigma)"
   ]
  },
  {
   "cell_type": "code",
   "execution_count": null,
   "metadata": {
    "id": "ePov2mQP-s-b"
   },
   "outputs": [],
   "source": [
    "def get_prediction(X, k):\n",
    "    weights = predict_probability(X,k)\n",
    "    return np.argmax(weights, axis=1)"
   ]
  },
  {
   "cell_type": "code",
   "execution_count": null,
   "metadata": {
    "colab": {
     "base_uri": "https://localhost:8080/"
    },
    "id": "rQ_yYi1a-2k2",
    "outputId": "50ba529a-5119-4d63-e9d5-8c808e91cdf8"
   },
   "outputs": [
    {
     "data": {
      "text/plain": [
       "array([0, 0, 0, 0, 0, 0, 0, 0, 0, 0, 0, 0, 0, 0, 0, 0, 0, 0, 0, 0, 0, 0,\n",
       "       0, 0, 0, 0, 0, 0, 0, 0, 0, 0, 0, 0, 0, 0, 0, 0, 0, 0, 0, 0, 0, 0,\n",
       "       0, 0, 0, 0, 0, 0, 2, 1, 2, 1, 2, 1, 1, 1, 2, 1, 1, 1, 2, 1, 1, 2,\n",
       "       1, 1, 2, 1, 1, 1, 2, 1, 2, 2, 2, 2, 1, 1, 1, 1, 1, 1, 1, 1, 2, 2,\n",
       "       1, 1, 1, 1, 1, 1, 1, 1, 1, 1, 1, 1, 2, 1, 2, 1, 2, 2, 1, 2, 2, 2,\n",
       "       2, 2, 2, 2, 2, 2, 2, 2, 2, 2, 2, 2, 2, 2, 2, 2, 2, 1, 2, 2, 2, 2,\n",
       "       2, 1, 1, 2, 2, 1, 1, 2, 2, 2, 1, 2, 2, 2, 2, 2, 2, 1])"
      ]
     },
     "execution_count": 7,
     "metadata": {
      "tags": []
     },
     "output_type": "execute_result"
    }
   ],
   "source": [
    "# run for k=3\n",
    "k=3\n",
    "phi, weights, mu, sigma = initialize(X, k)\n",
    "for i in range(10):\n",
    "    weights, phi = e_step(X,k)\n",
    "    phi, weights, mu, sigma = m_step(X,k)\n",
    "prediction = get_prediction(X, k)\n",
    "prediction"
   ]
  },
  {
   "cell_type": "code",
   "execution_count": null,
   "metadata": {
    "colab": {
     "base_uri": "https://localhost:8080/"
    },
    "id": "jBeQrUCg-4Gc",
    "outputId": "7548650a-5942-48e6-ac42-795132bbe808"
   },
   "outputs": [
    {
     "data": {
      "text/plain": [
       "0.84"
      ]
     },
     "execution_count": 8,
     "metadata": {
      "tags": []
     },
     "output_type": "execute_result"
    }
   ],
   "source": [
    "accuracy = np.mean(Y == prediction)\n",
    "# accuracy for k=3\n",
    "accuracy"
   ]
  },
  {
   "cell_type": "markdown",
   "metadata": {
    "id": "qX2jqLa5-9VU"
   },
   "source": [
    "# Part 2\n"
   ]
  },
  {
   "cell_type": "markdown",
   "metadata": {
    "id": "JoXmmYPm_Edy"
   },
   "source": [
    "Plot for Sepal length and width points with a color coding based on the obtained clusters. \n",
    "RGB colour values correspond to the probability estimates of a data point belonging to each class."
   ]
  },
  {
   "cell_type": "code",
   "execution_count": null,
   "metadata": {
    "id": "35ChZDDA_BBy"
   },
   "outputs": [],
   "source": [
    "import matplotlib.pyplot as plt\n",
    "def plot(k, prediction):\n",
    "    plt.title('Clusters')\n",
    "    plt.xlabel(\"sepal length\")\n",
    "    plt.ylabel(\"sepal width\")\n",
    "    plt.scatter(\n",
    "        X[:, 0], \n",
    "        X[:, 1], \n",
    "        c=prediction, \n",
    "        cmap=plt.cm.get_cmap('brg'),\n",
    "        marker='x')\n",
    "    plt.show()"
   ]
  },
  {
   "cell_type": "code",
   "execution_count": null,
   "metadata": {
    "colab": {
     "base_uri": "https://localhost:8080/",
     "height": 295
    },
    "id": "nv3OgxTw_bSp",
    "outputId": "6db486c7-74d6-4c60-d10c-318601030a26"
   },
   "outputs": [
    {
     "data": {
      "image/png": "[encoded data removed]",
      "text/plain": [
       "<Figure size 432x288 with 1 Axes>"
      ]
     },
     "metadata": {
      "needs_background": "light",
      "tags": []
     },
     "output_type": "display_data"
    }
   ],
   "source": [
    "# k=3\n",
    "plot(k, prediction)"
   ]
  },
  {
   "cell_type": "markdown",
   "metadata": {
    "id": "rUukWGNN_h5S"
   },
   "source": [
    "# Part 3"
   ]
  },
  {
   "cell_type": "markdown",
   "metadata": {
    "id": "XOlidhsB_ndL"
   },
   "source": [
    "Prediction accuracy with different numbers of assumed classes for k=2, 3, and 4"
   ]
  },
  {
   "cell_type": "code",
   "execution_count": null,
   "metadata": {
    "colab": {
     "base_uri": "https://localhost:8080/"
    },
    "id": "oTMLuI1e_uZO",
    "outputId": "41119732-08c0-4108-adae-12024f48b0e5"
   },
   "outputs": [
    {
     "data": {
      "text/plain": [
       "array([0, 0, 0, 0, 0, 0, 0, 0, 0, 0, 0, 0, 0, 0, 0, 0, 0, 0, 0, 0, 0, 0,\n",
       "       0, 0, 0, 0, 0, 0, 0, 0, 0, 0, 0, 0, 0, 0, 0, 0, 0, 0, 0, 0, 0, 0,\n",
       "       0, 0, 0, 0, 0, 0, 0, 0, 1, 0, 0, 1, 0, 0, 1, 0, 0, 0, 0, 1, 0, 0,\n",
       "       0, 0, 0, 0, 0, 0, 1, 1, 0, 0, 1, 1, 0, 0, 0, 0, 0, 1, 0, 0, 0, 0,\n",
       "       0, 0, 1, 0, 0, 0, 0, 0, 0, 0, 0, 0, 0, 0, 1, 1, 0, 1, 0, 1, 1, 0,\n",
       "       0, 0, 0, 0, 0, 0, 1, 1, 1, 0, 0, 0, 1, 0, 0, 1, 0, 0, 0, 1, 1, 1,\n",
       "       0, 1, 1, 1, 0, 1, 0, 0, 0, 0, 0, 0, 0, 0, 0, 0, 0, 0])"
      ]
     },
     "execution_count": 11,
     "metadata": {
      "tags": []
     },
     "output_type": "execute_result"
    }
   ],
   "source": [
    "# run for k=2\n",
    "k=2\n",
    "phi, weights, mu, sigma = initialize(X, k)\n",
    "for i in range(5):\n",
    "    weights, phi = e_step(X,k)\n",
    "    phi, weights, mu, sigma = m_step(X,k)\n",
    "prediction = get_prediction(X, k)\n",
    "prediction"
   ]
  },
  {
   "cell_type": "code",
   "execution_count": null,
   "metadata": {
    "colab": {
     "base_uri": "https://localhost:8080/"
    },
    "id": "8itz9sxR_3ZU",
    "outputId": "edc77a8a-8e19-4085-d6ac-f19b158d0c33"
   },
   "outputs": [
    {
     "data": {
      "text/plain": [
       "0.4"
      ]
     },
     "execution_count": 12,
     "metadata": {
      "tags": []
     },
     "output_type": "execute_result"
    }
   ],
   "source": [
    "accuracy = np.mean(Y == prediction)\n",
    "# accuracy for k=2\n",
    "accuracy"
   ]
  },
  {
   "cell_type": "code",
   "execution_count": null,
   "metadata": {
    "colab": {
     "base_uri": "https://localhost:8080/",
     "height": 295
    },
    "id": "8Wkgr2pr_9te",
    "outputId": "1cc97d49-07f0-4b0c-c56e-0d137b04668d"
   },
   "outputs": [
    {
     "data": {
      "image/png": "[encoded data removed]",
      "text/plain": [
       "<Figure size 432x288 with 1 Axes>"
      ]
     },
     "metadata": {
      "needs_background": "light",
      "tags": []
     },
     "output_type": "display_data"
    }
   ],
   "source": [
    "# k=2\n",
    "plot(k, prediction)"
   ]
  },
  {
   "cell_type": "code",
   "execution_count": null,
   "metadata": {
    "colab": {
     "base_uri": "https://localhost:8080/"
    },
    "id": "HC-tvAmRAIkU",
    "outputId": "184e6254-0046-4183-aff9-1ef3149ba2e9"
   },
   "outputs": [
    {
     "data": {
      "text/plain": [
       "array([0, 0, 0, 0, 0, 0, 0, 0, 0, 0, 0, 0, 0, 1, 0, 0, 0, 0, 0, 0, 0, 0,\n",
       "       1, 1, 0, 0, 0, 0, 0, 0, 0, 0, 0, 0, 0, 0, 0, 0, 1, 0, 0, 1, 1, 1,\n",
       "       0, 0, 0, 0, 0, 0, 3, 2, 3, 3, 3, 2, 2, 3, 3, 2, 3, 2, 3, 3, 3, 3,\n",
       "       2, 2, 3, 3, 2, 3, 3, 3, 3, 3, 3, 2, 2, 3, 3, 3, 3, 3, 2, 2, 3, 3,\n",
       "       2, 3, 3, 3, 3, 3, 2, 2, 2, 3, 1, 3, 2, 2, 2, 3, 2, 3, 2, 3, 3, 2,\n",
       "       2, 2, 2, 2, 2, 2, 3, 3, 3, 3, 2, 2, 3, 2, 2, 3, 2, 2, 2, 3, 3, 3,\n",
       "       2, 3, 3, 2, 2, 2, 2, 2, 2, 2, 2, 2, 2, 2, 2, 2, 2, 2])"
      ]
     },
     "execution_count": 16,
     "metadata": {
      "tags": []
     },
     "output_type": "execute_result"
    }
   ],
   "source": [
    "# run for k=4\n",
    "k=4\n",
    "phi, weights, mu, sigma = initialize(X, k)\n",
    "for i in range(5):\n",
    "    weights, phi = e_step(X,k)\n",
    "    phi, weights, mu, sigma = m_step(X,k)\n",
    "prediction = get_prediction(X, k)\n",
    "prediction"
   ]
  },
  {
   "cell_type": "code",
   "execution_count": null,
   "metadata": {
    "colab": {
     "base_uri": "https://localhost:8080/"
    },
    "id": "pomEbC7NAUQy",
    "outputId": "cd1c4b33-a900-4df3-e06f-b74196da2d5d"
   },
   "outputs": [
    {
     "data": {
      "text/plain": [
       "0.5266666666666666"
      ]
     },
     "execution_count": 17,
     "metadata": {
      "tags": []
     },
     "output_type": "execute_result"
    }
   ],
   "source": [
    "accuracy = np.mean(Y == prediction)\n",
    "# accuracy for k=4\n",
    "accuracy"
   ]
  },
  {
   "cell_type": "code",
   "execution_count": null,
   "metadata": {
    "colab": {
     "base_uri": "https://localhost:8080/",
     "height": 295
    },
    "id": "l5-42XXrAZz1",
    "outputId": "c264acd8-c6a7-4d24-b7f9-60eaed84ce78"
   },
   "outputs": [
    {
     "data": {
      "image/png": "[encoded data removed]",
      "text/plain": [
       "<Figure size 432x288 with 1 Axes>"
      ]
     },
     "metadata": {
      "needs_background": "light",
      "tags": []
     },
     "output_type": "display_data"
    }
   ],
   "source": [
    "# k=4\n",
    "plot(k, prediction)"
   ]
  },
  {
   "cell_type": "markdown",
   "metadata": {
    "id": "jIKtmmLbAhPJ"
   },
   "source": [
    "From above observation, we can say that our model performs best with k=3 with accuracy as 84%, with k=2 accuracy is 40%, with k=4 accuracy is 52%.\n",
    "\n"
   ]
  }
 ],
 "metadata": {
  "colab": {
   "name": "Assignment6-B00843735.ipynb",
   "provenance": []
  },
  "kernelspec": {
   "display_name": "Python 3",
   "language": "python",
   "name": "python3"
  },
  "language_info": {
   "codemirror_mode": {
    "name": "ipython",
    "version": 3
   },
   "file_extension": ".py",
   "mimetype": "text/x-python",
   "name": "python",
   "nbconvert_exporter": "python",
   "pygments_lexer": "ipython3",
   "version": "3.8.5"
  }
 },
 "nbformat": 4,
 "nbformat_minor": 1
}
